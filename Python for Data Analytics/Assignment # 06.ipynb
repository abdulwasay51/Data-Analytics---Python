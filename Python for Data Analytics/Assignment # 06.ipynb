{
 "cells": [
  {
   "cell_type": "markdown",
   "id": "f3c0c7e0-0f0a-49f1-bcd6-43ee39680748",
   "metadata": {},
   "source": [
    "# Question # 01"
   ]
  },
  {
   "cell_type": "code",
   "execution_count": 2,
   "id": "41094a63-8dbd-4a03-9a49-e029781a2a01",
   "metadata": {},
   "outputs": [
    {
     "name": "stdout",
     "output_type": "stream",
     "text": [
      "Charging the electric vehicle.\n",
      "Filling up the gasoline tank.\n",
      "Driving the hybrid car.\n"
     ]
    }
   ],
   "source": [
    "class ElectricVehicle:\n",
    "    def charge(self):\n",
    "        print(\"Charging the electric vehicle.\")\n",
    "\n",
    "class GasolineVehicle:\n",
    "    def fuel_up(self):\n",
    "        print(\"Filling up the gasoline tank.\")\n",
    "\n",
    "class HybridCar(ElectricVehicle, GasolineVehicle):\n",
    "    def drive(self):\n",
    "        print(\"Driving the hybrid car.\")\n",
    "\n",
    "# Instantiate an object of class HybridCar\n",
    "my_hybrid_car = HybridCar()\n",
    "\n",
    "# Demonstrate usage of charge(), fuel_up(), and drive()\n",
    "my_hybrid_car.charge()\n",
    "my_hybrid_car.fuel_up()\n",
    "my_hybrid_car.drive()\n"
   ]
  },
  {
   "cell_type": "markdown",
   "id": "7856aacd-329f-4bbe-b5e2-5ef7307428b2",
   "metadata": {},
   "source": [
    "# Question # 02"
   ]
  },
  {
   "cell_type": "code",
   "execution_count": 5,
   "id": "67961163-0553-4623-9529-ef627a829e8c",
   "metadata": {},
   "outputs": [
    {
     "name": "stdout",
     "output_type": "stream",
     "text": [
      "Roar\n",
      "Meow\n"
     ]
    }
   ],
   "source": [
    "class Animal:\n",
    "    def make_sound(self):\n",
    "        print(\"Animal makes a sound\")\n",
    "\n",
    "class Lion(Animal):\n",
    "    def make_sound(self):\n",
    "        print(\"Roar\")\n",
    "\n",
    "class Cat(Animal):\n",
    "    def make_sound(self):\n",
    "        print(\"Meow\")\n",
    "\n",
    "# Demonstrate polymorphism\n",
    "lion = Lion()\n",
    "cat = Cat()\n",
    "\n",
    "lion.make_sound()\n",
    "cat.make_sound()\n"
   ]
  },
  {
   "cell_type": "markdown",
   "id": "b4ad8d27-e935-4aad-b99d-94ab9baee97a",
   "metadata": {},
   "source": [
    "# Question # 03"
   ]
  },
  {
   "cell_type": "code",
   "execution_count": 10,
   "id": "721b5764-fe2d-4700-b992-633246dcce60",
   "metadata": {},
   "outputs": [
    {
     "name": "stdout",
     "output_type": "stream",
     "text": [
      "Turning on the light...\n",
      "Light is ON\n",
      "Turning off the light...\n",
      "Light is OFF\n"
     ]
    }
   ],
   "source": [
    "from abc import ABC, abstractmethod\n",
    "\n",
    "class SmartHomeDevice(ABC):\n",
    "    @abstractmethod\n",
    "    def turn_on(self):\n",
    "        pass\n",
    "\n",
    "    @abstractmethod\n",
    "    def turn_off(self):\n",
    "        pass\n",
    "\n",
    "class Light(SmartHomeDevice):\n",
    "    def turn_on(self):\n",
    "        print(\"Light is ON\")\n",
    "\n",
    "    def turn_off(self):\n",
    "        print(\"Light is OFF\")\n",
    "\n",
    "# Control the light device\n",
    "light = Light()\n",
    "\n",
    "print(\"Turning on the light...\")\n",
    "light.turn_on()\n",
    "\n",
    "print(\"Turning off the light...\")\n",
    "light.turn_off()\n"
   ]
  },
  {
   "cell_type": "markdown",
   "id": "3149d597-6650-446e-87c3-ca078c4a411c",
   "metadata": {},
   "source": [
    "# Question # 04"
   ]
  },
  {
   "cell_type": "code",
   "execution_count": 14,
   "id": "09134ff7-b160-43cd-9c19-2b69f2b2f7c9",
   "metadata": {},
   "outputs": [
    {
     "name": "stdout",
     "output_type": "stream",
     "text": [
      "Hello!\n",
      "Hello, John!\n",
      "Good morning, John!\n"
     ]
    }
   ],
   "source": [
    "class Greeting:\n",
    "    def greet(self, *args):\n",
    "        if len(args) == 0:\n",
    "            print(\"Hello!\")\n",
    "        elif len(args) == 1:\n",
    "            print(f\"Hello, {args[0]}!\")\n",
    "        elif len(args) == 2:\n",
    "            print(f\"{args[1]}, {args[0]}!\")\n",
    "        else:\n",
    "            print(\"Invalid number of arguments!\")\n",
    "\n",
    "# Demonstrate polymorphic behavior\n",
    "greeting = Greeting()\n",
    "\n",
    "greeting.greet()  # No arguments\n",
    "greeting.greet(\"John\")  # One argument\n",
    "greeting.greet(\"John\", \"Good morning\")  # Two arguments\n"
   ]
  },
  {
   "cell_type": "markdown",
   "id": "75ef0a91-d1c5-4796-a557-37bf35ba8341",
   "metadata": {},
   "source": [
    "# Question # 05"
   ]
  },
  {
   "cell_type": "code",
   "execution_count": 17,
   "id": "f7ec4ea6-9113-45d6-95fc-0bf4552acc0a",
   "metadata": {},
   "outputs": [
    {
     "name": "stdout",
     "output_type": "stream",
     "text": [
      "Car Name: Toyota Camry\n",
      "Price Per Day: $50\n",
      "Rental Days: 5\n",
      "Total Rental Cost: $250\n"
     ]
    }
   ],
   "source": [
    "class CarRental:\n",
    "    def __init__(self, car_name, price_per_day):\n",
    "        self.__car_name = car_name\n",
    "        self.__price_per_day = price_per_day\n",
    "        self.__rental_days = 0\n",
    "\n",
    "    def set_rental_days(self, days):\n",
    "        if days > 0:\n",
    "            self.__rental_days = days\n",
    "        else:\n",
    "            print(\"Rental days must be positive!\")\n",
    "\n",
    "    def calculate_total_cost(self):\n",
    "        return self.__price_per_day * self.__rental_days\n",
    "\n",
    "    # Getter and setter for car_name\n",
    "    def get_car_name(self):\n",
    "        return self.__car_name\n",
    "\n",
    "    def set_car_name(self, name):\n",
    "        self.__car_name = name\n",
    "\n",
    "    # Getter and setter for price_per_day\n",
    "    def get_price_per_day(self):\n",
    "        return self.__price_per_day\n",
    "\n",
    "    def set_price_per_day(self, price):\n",
    "        if price > 0:\n",
    "            self.__price_per_day = price\n",
    "        else:\n",
    "            print(\"Price per day must be positive!\")\n",
    "\n",
    "    # Getter for rental_days\n",
    "    def get_rental_days(self):\n",
    "        return self.__rental_days\n",
    "\n",
    "# Demonstrate encapsulation\n",
    "rental = CarRental(\"Toyota Camry\", 50)\n",
    "\n",
    "rental.set_rental_days(5)\n",
    "\n",
    "print(f\"Car Name: {rental.get_car_name()}\")\n",
    "print(f\"Price Per Day: ${rental.get_price_per_day()}\")\n",
    "print(f\"Rental Days: {rental.get_rental_days()}\")\n",
    "print(f\"Total Rental Cost: ${rental.calculate_total_cost()}\")"
   ]
  },
  {
   "cell_type": "markdown",
   "id": "7c067186-b99f-460f-b3fb-d3a9e6188ff3",
   "metadata": {},
   "source": [
    "# The End"
   ]
  }
 ],
 "metadata": {
  "kernelspec": {
   "display_name": "Python 3 (ipykernel)",
   "language": "python",
   "name": "python3"
  },
  "language_info": {
   "codemirror_mode": {
    "name": "ipython",
    "version": 3
   },
   "file_extension": ".py",
   "mimetype": "text/x-python",
   "name": "python",
   "nbconvert_exporter": "python",
   "pygments_lexer": "ipython3",
   "version": "3.12.7"
  }
 },
 "nbformat": 4,
 "nbformat_minor": 5
}
