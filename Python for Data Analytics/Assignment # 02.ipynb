{
 "cells": [
  {
   "cell_type": "markdown",
   "id": "7bedb5d4-c021-4ff9-aa4b-02005ef19361",
   "metadata": {},
   "source": [
    "# Question 1: Age Group Classification"
   ]
  },
  {
   "cell_type": "code",
   "execution_count": 2,
   "id": "e9c1233b-c06b-4244-8e55-2c49524edc0c",
   "metadata": {},
   "outputs": [],
   "source": [
    "# Function to classify age into groups\n",
    "def classify_age(age):\n",
    "    if 0 <= age <= 12:\n",
    "        return \"Child\"\n",
    "    elif 13 <= age <= 19:\n",
    "        return \"Teenager\"\n",
    "    elif 20 <= age <= 64:\n",
    "        return \"Adult\"\n",
    "    elif age >= 65:\n",
    "        return \"Senior\"\n",
    "    else:\n",
    "        return \"Invalid age\"\n"
   ]
  },
  {
   "cell_type": "code",
   "execution_count": 4,
   "id": "1db0399d-6206-4025-b4d9-9fe3ff56ac66",
   "metadata": {},
   "outputs": [
    {
     "name": "stdin",
     "output_type": "stream",
     "text": [
      "Enter the age of the person:  25\n"
     ]
    }
   ],
   "source": [
    "# Taking user input\n",
    "age = int(input(\"Enter the age of the person: \"))\n"
   ]
  },
  {
   "cell_type": "code",
   "execution_count": 6,
   "id": "ede1680b-e87d-4051-b785-2e7b2126ac02",
   "metadata": {},
   "outputs": [],
   "source": [
    "# Classifying the age\n",
    "age_group = classify_age(age)\n"
   ]
  },
  {
   "cell_type": "code",
   "execution_count": 8,
   "id": "b9f7941f-b483-43e0-8f39-cd01fdf108c9",
   "metadata": {},
   "outputs": [
    {
     "name": "stdout",
     "output_type": "stream",
     "text": [
      "The person is classified as: Adult\n"
     ]
    }
   ],
   "source": [
    "# Printing the result\n",
    "print(f\"The person is classified as: {age_group}\")"
   ]
  },
  {
   "cell_type": "markdown",
   "id": "82bfbd04-07ce-4e0d-9ef8-bc4dea550c3c",
   "metadata": {},
   "source": [
    "# Question 2: Checking for Eligibility for Discount"
   ]
  },
  {
   "cell_type": "code",
   "execution_count": 11,
   "id": "fe2f9abc-128f-4041-9c30-8b0c864747e7",
   "metadata": {},
   "outputs": [],
   "source": [
    "# Function to check discount eligibility\n",
    "def check_discount_eligibility(membership_status, purchase_amount):\n",
    "    if (membership_status.lower() == \"premium\" and purchase_amount >= 1000) or \\\n",
    "       (membership_status.lower() == \"regular\" and purchase_amount >= 2000):\n",
    "        return \"Eligible for discount\"\n",
    "    else:\n",
    "        return \"Not eligible for discount\"\n"
   ]
  },
  {
   "cell_type": "code",
   "execution_count": 13,
   "id": "4a23dfc8-6d06-40c0-a011-3ed7f08f8046",
   "metadata": {},
   "outputs": [
    {
     "name": "stdin",
     "output_type": "stream",
     "text": [
      "Enter your membership status (premium/regular):  premium\n",
      "Enter the purchase amount:  1500\n"
     ]
    }
   ],
   "source": [
    "# Taking user input for membership status and purchase amount\n",
    "membership_status = input(\"Enter your membership status (premium/regular): \").strip()\n",
    "purchase_amount = float(input(\"Enter the purchase amount: \"))\n"
   ]
  },
  {
   "cell_type": "code",
   "execution_count": 15,
   "id": "127aa4d7-3675-433e-a288-a121ce79a7ef",
   "metadata": {},
   "outputs": [],
   "source": [
    "\n",
    "# Checking eligibility\n",
    "eligibility = check_discount_eligibility(membership_status, purchase_amount)"
   ]
  },
  {
   "cell_type": "code",
   "execution_count": 17,
   "id": "a141adee-d5c5-45c9-879e-73f4b89421dc",
   "metadata": {},
   "outputs": [
    {
     "name": "stdout",
     "output_type": "stream",
     "text": [
      "Eligible for discount\n"
     ]
    }
   ],
   "source": [
    "# Printing the result\n",
    "print(eligibility)"
   ]
  },
  {
   "cell_type": "markdown",
   "id": "098a02ee-fa97-4091-bdee-7a5c2f8b8794",
   "metadata": {},
   "source": [
    "# Question 3: Voting Eligibility Check"
   ]
  },
  {
   "cell_type": "code",
   "execution_count": 20,
   "id": "2b024781-8d68-4c74-a3f0-62581fa938f0",
   "metadata": {},
   "outputs": [],
   "source": [
    "# Function to check voting eligibility\n",
    "def check_voting_eligibility(age, citizenship_status):\n",
    "    # Check if person meets either of the conditions for eligibility\n",
    "    if (age >= 18 and citizenship_status.lower() == \"citizen\") or (age >= 16 and citizenship_status.lower() == \"citizen\"):\n",
    "        return \"Eligible to vote\"\n",
    "    else:\n",
    "        return \"Not eligible to vote\""
   ]
  },
  {
   "cell_type": "code",
   "execution_count": 22,
   "id": "610d9ce5-8445-477f-825d-99a5ad28b0ca",
   "metadata": {},
   "outputs": [
    {
     "name": "stdin",
     "output_type": "stream",
     "text": [
      "Enter your age:  24\n",
      "Enter your citizenship status (citizen/non-citizen):  citizen\n"
     ]
    }
   ],
   "source": [
    "\n",
    "# Taking user input for age and citizenship status\n",
    "age = int(input(\"Enter your age: \"))\n",
    "citizenship_status = input(\"Enter your citizenship status (citizen/non-citizen): \").strip()"
   ]
  },
  {
   "cell_type": "code",
   "execution_count": 24,
   "id": "ee561435-cc9a-4702-bb09-4d32fe6d094b",
   "metadata": {},
   "outputs": [],
   "source": [
    "\n",
    "# Checking eligibility\n",
    "eligibility = check_voting_eligibility(age, citizenship_status)"
   ]
  },
  {
   "cell_type": "code",
   "execution_count": 26,
   "id": "fa8f0261-c5b5-4c3a-b342-3628557b87cd",
   "metadata": {},
   "outputs": [
    {
     "name": "stdout",
     "output_type": "stream",
     "text": [
      "Eligible to vote\n"
     ]
    }
   ],
   "source": [
    "# Printing the result\n",
    "print(eligibility)"
   ]
  },
  {
   "cell_type": "markdown",
   "id": "ad05ee88-701c-4afb-b7ec-aa231f71ee80",
   "metadata": {},
   "source": [
    "# Question 4: Employee Salary Bonus Eligibility"
   ]
  },
  {
   "cell_type": "code",
   "execution_count": 29,
   "id": "8321eff2-3959-440f-841c-49bad32e9ec5",
   "metadata": {},
   "outputs": [],
   "source": [
    "# Function to check bonus eligibility\n",
    "def check_bonus_eligibility(performance_rating, years_of_service):\n",
    "    # Checking the conditions for bonus eligibility\n",
    "    if (performance_rating.lower() == \"excellent\" and years_of_service >= 5) or \\\n",
    "       (performance_rating.lower() == \"good\" and years_of_service >= 10) or \\\n",
    "       (performance_rating.lower() == \"satisfactory\" or years_of_service >= 15):\n",
    "        return \"Eligible for bonus\"\n",
    "    else:\n",
    "        return \"Not eligible for bonus\""
   ]
  },
  {
   "cell_type": "code",
   "execution_count": 31,
   "id": "43e91394-6f07-420d-a9a9-9d76f96116f9",
   "metadata": {},
   "outputs": [
    {
     "name": "stdin",
     "output_type": "stream",
     "text": [
      "Enter your performance rating (Excellent/Good/Satisfactory):  Good\n",
      "Enter your years of service:  7\n"
     ]
    }
   ],
   "source": [
    "# Taking user input for performance rating and years of service\n",
    "performance_rating = input(\"Enter your performance rating (Excellent/Good/Satisfactory): \").strip()\n",
    "years_of_service = int(input(\"Enter your years of service: \"))"
   ]
  },
  {
   "cell_type": "code",
   "execution_count": 33,
   "id": "7bd27821-cf2a-4e13-9cc2-9ca50d5849bd",
   "metadata": {},
   "outputs": [],
   "source": [
    "\n",
    "# Checking eligibility for bonus\n",
    "eligibility = check_bonus_eligibility(performance_rating, years_of_service)"
   ]
  },
  {
   "cell_type": "code",
   "execution_count": 35,
   "id": "afec3eae-905c-49a1-ae7c-f1922cd68450",
   "metadata": {},
   "outputs": [
    {
     "name": "stdout",
     "output_type": "stream",
     "text": [
      "Not eligible for bonus\n"
     ]
    }
   ],
   "source": [
    "# Printing the result\n",
    "print(eligibility)"
   ]
  },
  {
   "cell_type": "markdown",
   "id": "f65e8795-91ac-4d4b-8752-6b17f4dd71b5",
   "metadata": {},
   "source": [
    "# Question 5"
   ]
  },
  {
   "cell_type": "code",
   "execution_count": 38,
   "id": "8b8935dd-e461-44ea-82f1-c5468e5fc357",
   "metadata": {},
   "outputs": [],
   "source": [
    "# Given text\n",
    "text = \"I'm learning Python programming\""
   ]
  },
  {
   "cell_type": "code",
   "execution_count": 40,
   "id": "354ca8a6-d6b9-41e5-b07e-397a068280c3",
   "metadata": {},
   "outputs": [],
   "source": [
    "# Replacing spaces with underscores\n",
    "modified_text = text.replace(\" \", \"_\")"
   ]
  },
  {
   "cell_type": "code",
   "execution_count": 42,
   "id": "e85a4d93-ad33-42ff-a6d8-5417528f966b",
   "metadata": {},
   "outputs": [],
   "source": [
    "# Counting the number of underscores\n",
    "underscore_count = modified_text.count(\"_\")"
   ]
  },
  {
   "cell_type": "code",
   "execution_count": 44,
   "id": "c7fbcd88-8f5f-40f8-a4dc-0441cce4a6f3",
   "metadata": {},
   "outputs": [],
   "source": [
    "# Finding the position of the first underscore\n",
    "first_underscore_position = modified_text.find(\"_\")"
   ]
  },
  {
   "cell_type": "code",
   "execution_count": 46,
   "id": "389946d5-30e4-438e-95ed-223e1057ba9d",
   "metadata": {},
   "outputs": [
    {
     "name": "stdout",
     "output_type": "stream",
     "text": [
      "Modified text: I'm_learning_Python_programming\n",
      "Number of underscores: 3\n",
      "Position of the first underscore: 3\n"
     ]
    }
   ],
   "source": [
    "# Printing the results\n",
    "print(f\"Modified text: {modified_text}\")\n",
    "print(f\"Number of underscores: {underscore_count}\")\n",
    "print(f\"Position of the first underscore: {first_underscore_position}\")"
   ]
  },
  {
   "cell_type": "markdown",
   "id": "7e7a0279-4c89-4f3e-bf5e-e5677b233465",
   "metadata": {},
   "source": [
    "# Question 6"
   ]
  },
  {
   "cell_type": "code",
   "execution_count": 57,
   "id": "e48cccb3-eb41-4f77-9651-94c8da9c5f40",
   "metadata": {},
   "outputs": [
    {
     "name": "stdin",
     "output_type": "stream",
     "text": [
      "Enter a string:  Abdul Wasay\n"
     ]
    }
   ],
   "source": [
    "# Taking string input from the user\n",
    "input_string = input(\"Enter a string: \")"
   ]
  },
  {
   "cell_type": "code",
   "execution_count": 59,
   "id": "852262f1-a355-4eb9-a4ed-a099e61c0d7e",
   "metadata": {},
   "outputs": [
    {
     "name": "stdout",
     "output_type": "stream",
     "text": [
      "All characters except the last 3: Abdul Wa\n"
     ]
    }
   ],
   "source": [
    "# 1. Print all characters except the last 3 using slicing\n",
    "print(\"All characters except the last 3:\", input_string[:-3])"
   ]
  },
  {
   "cell_type": "code",
   "execution_count": 61,
   "id": "d1011ab8-e229-4adc-8bf4-c0b2d9d054e8",
   "metadata": {},
   "outputs": [
    {
     "name": "stdout",
     "output_type": "stream",
     "text": [
      "Every second character: AdlWsy\n"
     ]
    }
   ],
   "source": [
    "# 2. Print every second character of the string using slicing\n",
    "print(\"Every second character:\", input_string[::2])"
   ]
  },
  {
   "cell_type": "code",
   "execution_count": 63,
   "id": "9622cdc7-987d-4a98-8c4b-3cbf3c440bed",
   "metadata": {},
   "outputs": [
    {
     "name": "stdout",
     "output_type": "stream",
     "text": [
      "String in reverse: yasaW ludbA\n"
     ]
    }
   ],
   "source": [
    "# 3. Print the string in reverse using slicing\n",
    "print(\"String in reverse:\", input_string[::-1])"
   ]
  },
  {
   "cell_type": "markdown",
   "id": "0fe5e9e5-b9dd-4584-b228-84ceb4a41237",
   "metadata": {},
   "source": [
    "# Question 7"
   ]
  },
  {
   "cell_type": "code",
   "execution_count": 66,
   "id": "feb1d445-8845-4f29-b644-328a6573b1e8",
   "metadata": {},
   "outputs": [],
   "source": [
    "# Given sentence\n",
    "sentence = \"Hello World, We are learning Python\""
   ]
  },
  {
   "cell_type": "code",
   "execution_count": 68,
   "id": "640fa49d-334f-4860-8810-62215db5639f",
   "metadata": {},
   "outputs": [],
   "source": [
    "# Splitting the sentence into words\n",
    "words = sentence.split()"
   ]
  },
  {
   "cell_type": "code",
   "execution_count": 70,
   "id": "c68f83ca-c583-4a53-9a78-41a7761e1c7d",
   "metadata": {},
   "outputs": [],
   "source": [
    "# Reversing the order of the words\n",
    "reversed_sentence = ' '.join(reversed(words))"
   ]
  },
  {
   "cell_type": "code",
   "execution_count": 72,
   "id": "8967f23e-a8d8-4a57-9171-2f7e1342216d",
   "metadata": {},
   "outputs": [
    {
     "name": "stdout",
     "output_type": "stream",
     "text": [
      "Reversed sentence: Python learning are We World, Hello\n"
     ]
    }
   ],
   "source": [
    "# Printing the reversed sentence\n",
    "print(\"Reversed sentence:\", reversed_sentence)"
   ]
  },
  {
   "cell_type": "markdown",
   "id": "97c6095b-972e-42d5-b297-773102789d99",
   "metadata": {},
   "source": [
    "# Question 8"
   ]
  },
  {
   "cell_type": "code",
   "execution_count": 75,
   "id": "d2912192-23ee-4864-8e57-d5ebbd6ee432",
   "metadata": {},
   "outputs": [],
   "source": [
    "# Given product code\n",
    "product_code = \"SKU-12345-XYZ\""
   ]
  },
  {
   "cell_type": "code",
   "execution_count": 77,
   "id": "dd6c124c-02b9-4e2c-8afe-ea59decb793a",
   "metadata": {},
   "outputs": [],
   "source": [
    "# Removing the \"SKU-\" prefix and \"-XYZ\" suffix\n",
    "extracted_number = product_code.replace(\"SKU-\", \"\").replace(\"-XYZ\", \"\")"
   ]
  },
  {
   "cell_type": "code",
   "execution_count": 79,
   "id": "e3eba456-eece-4340-baf3-813e86704e45",
   "metadata": {},
   "outputs": [
    {
     "name": "stdout",
     "output_type": "stream",
     "text": [
      "Extracted number: 12345\n"
     ]
    }
   ],
   "source": [
    "# Printing the extracted number\n",
    "print(\"Extracted number:\", extracted_number)"
   ]
  },
  {
   "cell_type": "markdown",
   "id": "b4c9e210-e5f1-4ad9-aa52-78a948bf6ce6",
   "metadata": {},
   "source": [
    "# Question 9"
   ]
  },
  {
   "cell_type": "code",
   "execution_count": 110,
   "id": "3c4b0453-285f-4305-8c94-9e9fe653387a",
   "metadata": {},
   "outputs": [
    {
     "name": "stdin",
     "output_type": "stream",
     "text": [
      "Enter your password:  pAssword345\n"
     ]
    },
    {
     "name": "stdout",
     "output_type": "stream",
     "text": [
      "Password contains uppercase characters: True\n",
      "Password contains lowercase characters: True\n",
      "Password contains spaces: False\n",
      "Password contains special characters: False\n"
     ]
    }
   ],
   "source": [
    "import re\n",
    "\n",
    "# Function to check password criteria\n",
    "def check_password(password):\n",
    "    # Check for uppercase characters\n",
    "    has_upper = any(c.isupper() for c in password)\n",
    "    \n",
    "    # Check for lowercase characters\n",
    "    has_lower = any(c.islower() for c in password)\n",
    "    \n",
    "    # Check for spaces\n",
    "    has_space = ' ' in password\n",
    "    \n",
    "    # Check for special characters (anything other than letters, digits, and spaces)\n",
    "    has_special = bool(re.search(r'[^a-zA-Z0-9 ]', password))\n",
    "    \n",
    "    # Print the results\n",
    "    print(\"Password contains uppercase characters:\", has_upper)\n",
    "    print(\"Password contains lowercase characters:\", has_lower)\n",
    "    print(\"Password contains spaces:\", has_space)\n",
    "    print(\"Password contains special characters:\", has_special)\n",
    "\n",
    "# Taking password input from the user\n",
    "password = input(\"Enter your password: \")\n",
    "\n",
    "# Check the password\n",
    "check_password(password)\n"
   ]
  },
  {
   "cell_type": "markdown",
   "id": "c0bdcc89-f58f-4b65-9937-48a041efc45c",
   "metadata": {},
   "source": [
    "# Question 10"
   ]
  },
  {
   "cell_type": "code",
   "execution_count": 113,
   "id": "9b43816a-6447-4b37-88c2-566f1102a25f",
   "metadata": {},
   "outputs": [],
   "source": [
    "# Function to find the longest word in a given string\n",
    "def find_longest_word(text):\n",
    "    # Split the text into words\n",
    "    words = text.split()\n",
    "\n",
    "    # Find the longest word using max() with key as length of the word\n",
    "    longest_word = max(words, key=len)\n",
    "\n",
    "    return longest_word"
   ]
  },
  {
   "cell_type": "code",
   "execution_count": 115,
   "id": "49cf45c8-97ba-4d91-b1ec-691858fa93a4",
   "metadata": {},
   "outputs": [
    {
     "name": "stdin",
     "output_type": "stream",
     "text": [
      "Enter a sentence:  hi! how are you master?\n"
     ]
    }
   ],
   "source": [
    "# Input string\n",
    "input_text = input(\"Enter a sentence: \")"
   ]
  },
  {
   "cell_type": "code",
   "execution_count": 117,
   "id": "f379eb01-d5dc-4af8-9937-26fbf77d07b5",
   "metadata": {},
   "outputs": [],
   "source": [
    "# Find the longest word\n",
    "longest_word = find_longest_word(input_text)"
   ]
  },
  {
   "cell_type": "code",
   "execution_count": 119,
   "id": "2d599eed-80f0-4d7f-a61b-37629b561899",
   "metadata": {},
   "outputs": [
    {
     "name": "stdout",
     "output_type": "stream",
     "text": [
      "The longest word is: master?\n"
     ]
    }
   ],
   "source": [
    "# Output the longest word\n",
    "print(\"The longest word is:\", longest_word)"
   ]
  },
  {
   "cell_type": "markdown",
   "id": "d83a49ca-e29d-4d08-9724-125019cb3d58",
   "metadata": {},
   "source": [
    "# The End"
   ]
  },
  {
   "cell_type": "code",
   "execution_count": null,
   "id": "ba9ff290-c904-4186-82e1-0b16fbbef1c5",
   "metadata": {},
   "outputs": [],
   "source": []
  }
 ],
 "metadata": {
  "kernelspec": {
   "display_name": "Python 3 (ipykernel)",
   "language": "python",
   "name": "python3"
  },
  "language_info": {
   "codemirror_mode": {
    "name": "ipython",
    "version": 3
   },
   "file_extension": ".py",
   "mimetype": "text/x-python",
   "name": "python",
   "nbconvert_exporter": "python",
   "pygments_lexer": "ipython3",
   "version": "3.12.7"
  }
 },
 "nbformat": 4,
 "nbformat_minor": 5
}
