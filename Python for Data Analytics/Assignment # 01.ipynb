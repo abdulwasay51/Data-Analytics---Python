{
 "cells": [
  {
   "cell_type": "markdown",
   "id": "0ba74fe7-eac9-47ba-bdb2-daa6b5b7f1ea",
   "metadata": {},
   "source": [
    "# Assignment 01"
   ]
  },
  {
   "cell_type": "code",
   "execution_count": 3,
   "id": "c0fccb4a-735d-4dbb-b5fe-044700ba6001",
   "metadata": {},
   "outputs": [],
   "source": [
    "salaries = ['20k', '40k', '50k', '60k', '35k', '89k','40k']"
   ]
  },
  {
   "cell_type": "code",
   "execution_count": 5,
   "id": "9500ada6-52d2-4585-9289-e7c9a06bdff3",
   "metadata": {},
   "outputs": [
    {
     "data": {
      "text/plain": [
       "['20k', '40k', '50k', '60k', '35k', '89k', '40k']"
      ]
     },
     "execution_count": 5,
     "metadata": {},
     "output_type": "execute_result"
    }
   ],
   "source": [
    "salaries"
   ]
  },
  {
   "cell_type": "markdown",
   "id": "b7da20b9-48ea-4516-af6b-1f432a32785c",
   "metadata": {},
   "source": [
    "### 1. What is the length of the salaries list."
   ]
  },
  {
   "cell_type": "code",
   "execution_count": 8,
   "id": "f3b561d3-0bf7-493b-850e-a70f870a1546",
   "metadata": {},
   "outputs": [
    {
     "data": {
      "text/plain": [
       "7"
      ]
     },
     "execution_count": 8,
     "metadata": {},
     "output_type": "execute_result"
    }
   ],
   "source": [
    "len(salaries)"
   ]
  },
  {
   "cell_type": "markdown",
   "id": "299fece2-cd38-43b5-a400-4208457948db",
   "metadata": {},
   "source": [
    "### 2. Retrieve the third salary in the list by using index.\n"
   ]
  },
  {
   "cell_type": "code",
   "execution_count": 11,
   "id": "c79ca38c-6d95-4dc5-9e4d-632ea1c33c77",
   "metadata": {},
   "outputs": [
    {
     "data": {
      "text/plain": [
       "'50k'"
      ]
     },
     "execution_count": 11,
     "metadata": {},
     "output_type": "execute_result"
    }
   ],
   "source": [
    "salaries[2]"
   ]
  },
  {
   "cell_type": "markdown",
   "id": "5e8faf9f-2fba-41bf-a51c-42660b7db40f",
   "metadata": {},
   "source": [
    "### 3. Extract the last salary from the list by using a negative index."
   ]
  },
  {
   "cell_type": "code",
   "execution_count": 14,
   "id": "9e13f1fa-b891-47b2-92a5-53340488f61f",
   "metadata": {},
   "outputs": [
    {
     "data": {
      "text/plain": [
       "'40k'"
      ]
     },
     "execution_count": 14,
     "metadata": {},
     "output_type": "execute_result"
    }
   ],
   "source": [
    "salaries[-1]"
   ]
  },
  {
   "cell_type": "markdown",
   "id": "7780c6ee-79e1-4432-bdc8-53a326ec0412",
   "metadata": {},
   "source": [
    "### 4. Slice the salaries list to get only the middle three salaries."
   ]
  },
  {
   "cell_type": "code",
   "execution_count": 17,
   "id": "7ab774ae-4e6b-4447-a1be-eab05fade942",
   "metadata": {},
   "outputs": [
    {
     "data": {
      "text/plain": [
       "['50k', '60k', '35k']"
      ]
     },
     "execution_count": 17,
     "metadata": {},
     "output_type": "execute_result"
    }
   ],
   "source": [
    "salaries[2:5]"
   ]
  },
  {
   "cell_type": "markdown",
   "id": "10f15a11-eedb-4931-a526-360a600ffb18",
   "metadata": {},
   "source": [
    "### 5. Add a new salary to the list, ‘100k’ by using append() method."
   ]
  },
  {
   "cell_type": "code",
   "execution_count": 20,
   "id": "e88f028d-0f32-4750-9f30-0cb0e6855f5c",
   "metadata": {},
   "outputs": [],
   "source": [
    "salaries.append('100k')"
   ]
  },
  {
   "cell_type": "code",
   "execution_count": 22,
   "id": "e0b8cbea-a882-4839-a3bd-68f83000bcda",
   "metadata": {},
   "outputs": [
    {
     "data": {
      "text/plain": [
       "['20k', '40k', '50k', '60k', '35k', '89k', '40k', '100k']"
      ]
     },
     "execution_count": 22,
     "metadata": {},
     "output_type": "execute_result"
    }
   ],
   "source": [
    "salaries"
   ]
  },
  {
   "cell_type": "markdown",
   "id": "134ae6e2-4bb5-411a-9e14-92481795434d",
   "metadata": {},
   "source": [
    "### 6. Add a new salary to the list, ‘120k’ without method."
   ]
  },
  {
   "cell_type": "code",
   "execution_count": 25,
   "id": "5870ba5a-dd0f-4110-bc4e-a9ee692f81a7",
   "metadata": {},
   "outputs": [],
   "source": [
    "salaries += ['120k']"
   ]
  },
  {
   "cell_type": "code",
   "execution_count": 27,
   "id": "84e6835e-194b-4651-b9fc-8007567d5561",
   "metadata": {},
   "outputs": [
    {
     "data": {
      "text/plain": [
       "['20k', '40k', '50k', '60k', '35k', '89k', '40k', '100k', '120k']"
      ]
     },
     "execution_count": 27,
     "metadata": {},
     "output_type": "execute_result"
    }
   ],
   "source": [
    "salaries"
   ]
  },
  {
   "cell_type": "markdown",
   "id": "6a215657-fd8e-4e50-a4cd-d94993ab5a64",
   "metadata": {},
   "source": [
    "### 7. Replace the third salary in the list with '55k' and print the updated list."
   ]
  },
  {
   "cell_type": "code",
   "execution_count": 30,
   "id": "5db9587c-040a-46b0-8180-a3fae6fdf5b9",
   "metadata": {},
   "outputs": [
    {
     "name": "stdout",
     "output_type": "stream",
     "text": [
      "['20k', '40k', '55k', '60k', '35k', '89k', '40k', '100k', '120k']\n"
     ]
    }
   ],
   "source": [
    "salaries[2] = '55k'\n",
    "print(salaries)"
   ]
  },
  {
   "cell_type": "markdown",
   "id": "df3d0fe9-8984-4ecc-9121-388da8deb9cb",
   "metadata": {},
   "source": [
    "### 8. Count how many times '40k' appears in the list."
   ]
  },
  {
   "cell_type": "code",
   "execution_count": 33,
   "id": "7dad0fdc-f0f8-4416-b3c2-8b69e81a185c",
   "metadata": {},
   "outputs": [
    {
     "data": {
      "text/plain": [
       "2"
      ]
     },
     "execution_count": 33,
     "metadata": {},
     "output_type": "execute_result"
    }
   ],
   "source": [
    "salaries.count('40k')"
   ]
  },
  {
   "cell_type": "markdown",
   "id": "f09403e3-f7a7-461d-a248-ab694f8d1a8b",
   "metadata": {},
   "source": [
    "### 9. Insert a new salary at the second position."
   ]
  },
  {
   "cell_type": "code",
   "execution_count": 36,
   "id": "035057f6-0478-430f-bf2f-a34dac8e063e",
   "metadata": {},
   "outputs": [],
   "source": [
    "salaries.insert(1, '45k')"
   ]
  },
  {
   "cell_type": "code",
   "execution_count": 38,
   "id": "b5a642b6-23a4-469e-bc25-479460505a06",
   "metadata": {},
   "outputs": [
    {
     "data": {
      "text/plain": [
       "['20k', '45k', '40k', '55k', '60k', '35k', '89k', '40k', '100k', '120k']"
      ]
     },
     "execution_count": 38,
     "metadata": {},
     "output_type": "execute_result"
    }
   ],
   "source": [
    "salaries"
   ]
  },
  {
   "cell_type": "markdown",
   "id": "5b323d9f-c273-4706-8cfd-8d256112a30c",
   "metadata": {},
   "source": [
    "### 10. Reverse the order of the salaries list with method.\n"
   ]
  },
  {
   "cell_type": "code",
   "execution_count": 41,
   "id": "e4a4422e-581a-4002-a9ef-43ceccd9d915",
   "metadata": {},
   "outputs": [],
   "source": [
    "salaries.reverse()"
   ]
  },
  {
   "cell_type": "code",
   "execution_count": 43,
   "id": "01897624-9b26-413c-ab4b-ecf8499ea171",
   "metadata": {},
   "outputs": [
    {
     "data": {
      "text/plain": [
       "['120k', '100k', '40k', '89k', '35k', '60k', '55k', '40k', '45k', '20k']"
      ]
     },
     "execution_count": 43,
     "metadata": {},
     "output_type": "execute_result"
    }
   ],
   "source": [
    "salaries"
   ]
  },
  {
   "cell_type": "markdown",
   "id": "5e133e5e-15e1-481c-bf65-915358d9d252",
   "metadata": {},
   "source": [
    "### 11. Reverse the order of the salaries list without method."
   ]
  },
  {
   "cell_type": "code",
   "execution_count": 46,
   "id": "3614ef5f-438e-4b59-91ac-35b83da07e22",
   "metadata": {},
   "outputs": [],
   "source": [
    "salaries = salaries[::-1]"
   ]
  },
  {
   "cell_type": "code",
   "execution_count": 48,
   "id": "86b6ae30-7a81-4206-aded-fb29b49c5519",
   "metadata": {},
   "outputs": [
    {
     "data": {
      "text/plain": [
       "['20k', '45k', '40k', '55k', '60k', '35k', '89k', '40k', '100k', '120k']"
      ]
     },
     "execution_count": 48,
     "metadata": {},
     "output_type": "execute_result"
    }
   ],
   "source": [
    "salaries"
   ]
  },
  {
   "cell_type": "code",
   "execution_count": null,
   "id": "1c74210a-fb0d-4e2e-8bb7-789bdef447ab",
   "metadata": {},
   "outputs": [],
   "source": []
  }
 ],
 "metadata": {
  "kernelspec": {
   "display_name": "Python 3 (ipykernel)",
   "language": "python",
   "name": "python3"
  },
  "language_info": {
   "codemirror_mode": {
    "name": "ipython",
    "version": 3
   },
   "file_extension": ".py",
   "mimetype": "text/x-python",
   "name": "python",
   "nbconvert_exporter": "python",
   "pygments_lexer": "ipython3",
   "version": "3.12.7"
  }
 },
 "nbformat": 4,
 "nbformat_minor": 5
}
