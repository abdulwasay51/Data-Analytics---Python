{
 "cells": [
  {
   "cell_type": "markdown",
   "id": "84bfdfba-603f-4b20-826c-3f9d6d3ee774",
   "metadata": {},
   "source": [
    "# Question 1"
   ]
  },
  {
   "cell_type": "code",
   "execution_count": 3,
   "id": "c27fe66c-712f-4c81-8cbd-da23418d94a2",
   "metadata": {},
   "outputs": [
    {
     "name": "stdin",
     "output_type": "stream",
     "text": [
      "Enter the applicant's age:  19\n",
      "Enter the applicant's credit score:  900\n",
      "Enter the applicant's annual income (in dollars):  3200\n"
     ]
    },
    {
     "name": "stdout",
     "output_type": "stream",
     "text": [
      "Not eligible: Does not meet credit score or income requirements.\n"
     ]
    }
   ],
   "source": [
    "# Function to check loan eligibility\n",
    "def check_loan_eligibility(age, credit_score, annual_income):\n",
    "    \"\"\"\n",
    "    Check if a person is eligible for a loan based on age, credit score, and income.\n",
    "    \n",
    "    Parameters:\n",
    "    - age (int): The person's age.\n",
    "    - credit_score (int): The person's credit score.\n",
    "    - annual_income (float): The person's annual income in dollars.\n",
    "    \n",
    "    Returns:\n",
    "    - str: Eligibility status.\n",
    "    \"\"\"\n",
    "    if age < 18:\n",
    "        return \"Not eligible: Applicant must be 18 years or older.\"\n",
    "    \n",
    "    if credit_score >= 700 and annual_income >= 25000:\n",
    "        return \"Eligible for a loan.\"\n",
    "    elif credit_score >= 650 and annual_income >= 30000:\n",
    "        return \"Eligible for a loan.\"\n",
    "    else:\n",
    "        return \"Not eligible: Does not meet credit score or income requirements.\"\n",
    "\n",
    "# Example usage\n",
    "# Input details\n",
    "age = int(input(\"Enter the applicant's age: \"))\n",
    "credit_score = int(input(\"Enter the applicant's credit score: \"))\n",
    "annual_income = float(input(\"Enter the applicant's annual income (in dollars): \"))\n",
    "\n",
    "# Check eligibility\n",
    "result = check_loan_eligibility(age, credit_score, annual_income)\n",
    "print(result)\n"
   ]
  },
  {
   "cell_type": "markdown",
   "id": "446f0b05-9264-484d-9ad7-b0f221781864",
   "metadata": {},
   "source": [
    "# Question 02"
   ]
  },
  {
   "cell_type": "code",
   "execution_count": 6,
   "id": "80652c0d-c47c-45c9-b694-4ba63f301bad",
   "metadata": {},
   "outputs": [
    {
     "name": "stdin",
     "output_type": "stream",
     "text": [
      "Enter your age:  20\n",
      "Enter your years of experience:  6\n"
     ]
    },
    {
     "name": "stdout",
     "output_type": "stream",
     "text": [
      "You have moderate experience.\n"
     ]
    }
   ],
   "source": [
    "# Function to check adulthood and experience\n",
    "def check_adult_and_experience():\n",
    "    \"\"\"\n",
    "    Check if a person is an adult and evaluate their years of experience.\n",
    "    \"\"\"\n",
    "    # Take age as input\n",
    "    age = int(input(\"Enter your age: \"))\n",
    "    \n",
    "    # Check if the person is underage\n",
    "    if age < 18:\n",
    "        print(\"You are underage.\")\n",
    "    else:\n",
    "        # If the person is an adult, take years of experience as input\n",
    "        experience = int(input(\"Enter your years of experience: \"))\n",
    "        \n",
    "        # Evaluate experience level\n",
    "        if experience >= 10:\n",
    "            print(\"You have a lot of experience.\")\n",
    "        elif 5 <= experience <= 9:\n",
    "            print(\"You have moderate experience.\")\n",
    "        elif 2 <= experience <= 4:\n",
    "            print(\"You are relatively new.\")\n",
    "        else:  # Less than 2 years of experience\n",
    "            print(\"You are just starting out.\")\n",
    "\n",
    "# Call the function to execute\n",
    "check_adult_and_experience()\n"
   ]
  },
  {
   "cell_type": "markdown",
   "id": "2d7da03b-713c-43ae-8cd3-53c64c3f5da4",
   "metadata": {},
   "source": [
    "# Question 03"
   ]
  },
  {
   "cell_type": "code",
   "execution_count": 9,
   "id": "b0ac81ab-8545-443c-9409-9ee764279e85",
   "metadata": {},
   "outputs": [
    {
     "name": "stdout",
     "output_type": "stream",
     "text": [
      "Memory addresses of variables:\n",
      "int_var: 140718448717528\n",
      "float_var: 2867334206832\n",
      "str_var: 2867288402912\n",
      "list_var: 2867352130752\n",
      "tuple_var: 2867311740576\n",
      "set_var: 2867351582784\n",
      "dict_var: 2867311864064\n",
      "bool_var: 140718447590272\n",
      "\n",
      "Memory sizes of variables:\n",
      "int_var: 28 bytes\n",
      "float_var: 24 bytes\n",
      "str_var: 43 bytes\n",
      "list_var: 64 bytes\n",
      "tuple_var: 48 bytes\n",
      "set_var: 216 bytes\n",
      "dict_var: 184 bytes\n",
      "bool_var: 28 bytes\n",
      "\n",
      "Data type with the lowest memory size:\n",
      "float_var (<class 'float'>): 24 bytes\n"
     ]
    }
   ],
   "source": [
    "import sys\n",
    "\n",
    "# Define variables with different data types\n",
    "variables = {\n",
    "    \"int_var\": 42,\n",
    "    \"float_var\": 42.0,\n",
    "    \"str_var\": \"42\",\n",
    "    \"list_var\": [42],\n",
    "    \"tuple_var\": (42,),\n",
    "    \"set_var\": {42},\n",
    "    \"dict_var\": {\"key\": 42},\n",
    "    \"bool_var\": True\n",
    "}\n",
    "\n",
    "# Part (a) Print memory addresses\n",
    "print(\"Memory addresses of variables:\")\n",
    "memory_addresses = {name: id(value) for name, value in variables.items()}\n",
    "for name, address in memory_addresses.items():\n",
    "    print(f\"{name}: {address}\")\n",
    "\n",
    "# Part (b) Find memory sizes and append them to a list\n",
    "memory_sizes = [(name, sys.getsizeof(value)) for name, value in variables.items()]\n",
    "\n",
    "# Print memory sizes\n",
    "print(\"\\nMemory sizes of variables:\")\n",
    "for name, size in memory_sizes:\n",
    "    print(f\"{name}: {size} bytes\")\n",
    "\n",
    "# Find the variable with the least memory size\n",
    "least_memory = min(memory_sizes, key=lambda x: x[1])\n",
    "\n",
    "# Part (c) Print the final name of the data type with the lowest memory size\n",
    "print(\"\\nData type with the lowest memory size:\")\n",
    "print(f\"{least_memory[0]} ({type(variables[least_memory[0]])}): {least_memory[1]} bytes\")\n"
   ]
  },
  {
   "cell_type": "markdown",
   "id": "8ea7a912-40ba-4615-b5f9-0ef5d91bc5db",
   "metadata": {},
   "source": [
    "# Question 04"
   ]
  },
  {
   "cell_type": "code",
   "execution_count": 12,
   "id": "63615e54-9294-4300-951f-e861383d9e01",
   "metadata": {},
   "outputs": [
    {
     "name": "stdin",
     "output_type": "stream",
     "text": [
      "Enter your email address:  abdulwasay@gmail.com\n"
     ]
    },
    {
     "name": "stdout",
     "output_type": "stream",
     "text": [
      "Email format is valid.\n"
     ]
    }
   ],
   "source": [
    "# Function to validate email format\n",
    "def validate_email(email):\n",
    "    \"\"\"\n",
    "    Check if the email contains '@' and '.'\n",
    "\n",
    "    Parameters:\n",
    "    - email (str): The email address to validate.\n",
    "\n",
    "    Returns:\n",
    "    - str: Validation result.\n",
    "    \"\"\"\n",
    "    if \"@\" in email and \".\" in email:\n",
    "        return \"Email format is valid.\"\n",
    "    else:\n",
    "        return \"Invalid email format.\"\n",
    "\n",
    "# Ask the user for an email address\n",
    "email = input(\"Enter your email address: \")\n",
    "\n",
    "# Validate the email and print the result\n",
    "result = validate_email(email)\n",
    "print(result)\n"
   ]
  },
  {
   "cell_type": "markdown",
   "id": "67c65c30-9a65-4220-9da5-db54d8a361d0",
   "metadata": {},
   "source": [
    "# Question 05"
   ]
  },
  {
   "cell_type": "code",
   "execution_count": 15,
   "id": "f9c7ce2f-70ef-4136-afc3-4dd6e6778fd4",
   "metadata": {},
   "outputs": [
    {
     "name": "stdout",
     "output_type": "stream",
     "text": [
      "Data types of tuple elements: [<class 'int'>, <class 'float'>, <class 'str'>, <class 'list'>, <class 'tuple'>]\n"
     ]
    }
   ],
   "source": [
    "# Define the tuple\n",
    "x = (11, 22.333, 'apple', [1, 2, 3], ('a', 'b'))\n",
    "\n",
    "# Initialize an empty list to store data types\n",
    "data_types = []\n",
    "\n",
    "# Iterate over the tuple elements\n",
    "for element in x:\n",
    "    # Append the type of each element to the list\n",
    "    data_types.append(type(element))\n",
    "\n",
    "# Print the final list of data types\n",
    "print(\"Data types of tuple elements:\", data_types)\n"
   ]
  },
  {
   "cell_type": "markdown",
   "id": "e82ddce9-9905-4679-9688-d9cf72667d2e",
   "metadata": {},
   "source": [
    "# Question 06"
   ]
  },
  {
   "cell_type": "code",
   "execution_count": 24,
   "id": "8cca4727-8ebf-40a0-9053-9e08669b768a",
   "metadata": {},
   "outputs": [
    {
     "name": "stdin",
     "output_type": "stream",
     "text": [
      "Enter the username to check:  alice\n"
     ]
    },
    {
     "name": "stdout",
     "output_type": "stream",
     "text": [
      "User 'alice' is the admin.\n"
     ]
    }
   ],
   "source": [
    "# List of active users with roles\n",
    "active_users = [\n",
    "    (\"alice\", \"admin\"),\n",
    "    (\"bob\", \"user\"),\n",
    "    (\"charlie\", \"moderator\")\n",
    "]\n",
    "\n",
    "# Function to check user existence and admin role\n",
    "def check_user(username):\n",
    "    \"\"\"\n",
    "    Checks if a given username exists in the active users list\n",
    "    and verifies if the user is an admin.\n",
    "    \"\"\"\n",
    "    # Check if the username exists in the list\n",
    "    user_exists = any(user[0] == username for user in active_users)\n",
    "    if not user_exists:\n",
    "        print(f\"User '{username}' does not exist.\")\n",
    "        return\n",
    "\n",
    "    # Find the user tuple\n",
    "    user_tuple = next((user for user in active_users if user[0] == username), None)\n",
    "\n",
    "    # Check if the user is an admin using the identity operator\n",
    "    if user_tuple is active_users[0]:  # Assuming (\"alice\", \"admin\") is the specific reference\n",
    "        print(f\"User '{username}' is the admin.\")\n",
    "    else:\n",
    "        print(f\"User '{username}' exists but is not an admin.\")\n",
    "\n",
    "# Ask for username input\n",
    "username_input = input(\"Enter the username to check: \")\n",
    "\n",
    "# Check the username and role\n",
    "check_user(username_input)\n"
   ]
  },
  {
   "cell_type": "markdown",
   "id": "3dfaad7f-3b39-4d4d-bcc0-f9d5ab5f6760",
   "metadata": {},
   "source": [
    "# Question 07"
   ]
  },
  {
   "cell_type": "code",
   "execution_count": 27,
   "id": "5a429a0d-ac34-4140-9071-c502584d93db",
   "metadata": {},
   "outputs": [
    {
     "name": "stdout",
     "output_type": "stream",
     "text": [
      "Person1 and Person2 are Siblings (same data, not same identity).\n",
      "Person1 and Person3 are not cousins.\n"
     ]
    }
   ],
   "source": [
    "# Data for each person\n",
    "person1 = ['John Smith', 'Mary Smith', 'Springfield', '12345']\n",
    "person2 = ['John Smith', 'Mary Smith', 'Springfield', '12345']\n",
    "person3 = ['James Smith', 'Emily Smith', 'Springfield', '67890']\n",
    "\n",
    "# Function to check relationships\n",
    "def check_relationship(p1, p2, p3):\n",
    "    \"\"\"\n",
    "    Determines the relationship between person1 and person2/person3.\n",
    "    Prints 'Siblings' if person1 and person2 are siblings.\n",
    "    Prints 'Cousin' if person1 and person3 are cousins.\n",
    "    \"\"\"\n",
    "    # Check if person1 and person2 have the same family data using identity operator\n",
    "    if p1 is p2:\n",
    "        print(\"Person1 and Person2 are Siblings.\")\n",
    "    elif p1 == p2:\n",
    "        print(\"Person1 and Person2 are Siblings (same data, not same identity).\")\n",
    "    else:\n",
    "        print(\"Person1 and Person2 are not related (data does not match).\")\n",
    "    \n",
    "    # Check if person1 and person3 have different family numbers but other data may vary\n",
    "    if p1[-1] != p3[-1] and p1[:3] == p3[:3]:\n",
    "        print(\"Person1 and Person3 are Cousins.\")\n",
    "    else:\n",
    "        print(\"Person1 and Person3 are not cousins.\")\n",
    "\n",
    "# Call the function to check relationships\n",
    "check_relationship(person1, person2, person3)\n"
   ]
  },
  {
   "cell_type": "markdown",
   "id": "6d7d256d-bb2e-4fc3-a57c-7cb089dc8901",
   "metadata": {},
   "source": [
    "# Question 08"
   ]
  },
  {
   "cell_type": "code",
   "execution_count": 30,
   "id": "6cd631ed-19de-49ab-b46e-993ef6c24a5f",
   "metadata": {},
   "outputs": [
    {
     "name": "stdin",
     "output_type": "stream",
     "text": [
      "Enter the book's title:  alex in the wonderland\n",
      "Enter the author's name:  shawn\n",
      "Enter the year of publication:  2007\n",
      "Enter the price of the book:  5000\n"
     ]
    },
    {
     "name": "stdout",
     "output_type": "stream",
     "text": [
      "\n",
      "Stored Book Information:\n",
      "Title: alex in the wonderland\n",
      "Author: shawn\n",
      "Year of Publication: 2007\n",
      "Price: $5000.00\n"
     ]
    }
   ],
   "source": [
    "# Function to store and display book details\n",
    "def store_and_display_book():\n",
    "    # Ask the user for book details\n",
    "    title = input(\"Enter the book's title: \")\n",
    "    author = input(\"Enter the author's name: \")\n",
    "    year = int(input(\"Enter the year of publication: \"))\n",
    "    price = float(input(\"Enter the price of the book: \"))\n",
    "\n",
    "    # Store the book details in a tuple\n",
    "    book_details = (title, author, year, price)\n",
    "\n",
    "    # Display the stored book details\n",
    "    print(\"\\nStored Book Information:\")\n",
    "    print(f\"Title: {book_details[0]}\")\n",
    "    print(f\"Author: {book_details[1]}\")\n",
    "    print(f\"Year of Publication: {book_details[2]}\")\n",
    "    print(f\"Price: ${book_details[3]:.2f}\")\n",
    "\n",
    "# Call the function to store and display the book details\n",
    "store_and_display_book()\n"
   ]
  },
  {
   "cell_type": "markdown",
   "id": "4452ec03-4440-4d65-85ec-f5e36bcbf8a7",
   "metadata": {},
   "source": [
    "# Question 09"
   ]
  },
  {
   "cell_type": "code",
   "execution_count": 39,
   "id": "c04f8de6-da81-4343-be4f-90aeb28959b4",
   "metadata": {},
   "outputs": [
    {
     "name": "stdin",
     "output_type": "stream",
     "text": [
      "Enter the subject you're looking for:  Math\n"
     ]
    },
    {
     "name": "stdout",
     "output_type": "stream",
     "text": [
      "The subject 'Math' is available.\n"
     ]
    }
   ],
   "source": [
    "# List of offered subjects\n",
    "offered_subjects = [\"Math\", \"Science\", \"English\", \"History\", \"Geography\", \"Computer Science\", \"Art\", \"Music\"]\n",
    "\n",
    "# Function to check if the subject is available\n",
    "def check_subject_availability():\n",
    "    # Ask the user to input a subject\n",
    "    chosen_subject = input(\"Enter the subject you're looking for: \")\n",
    "\n",
    "    # Check if the chosen subject is in the list of offered subjects\n",
    "    if chosen_subject in offered_subjects:\n",
    "        print(f\"The subject '{chosen_subject}' is available.\")\n",
    "    else:\n",
    "        print(f\"The subject '{chosen_subject}' is not available.\")\n",
    "\n",
    "# Call the function to check the subject availability\n",
    "check_subject_availability()\n"
   ]
  },
  {
   "cell_type": "markdown",
   "id": "54c12e3b-ee84-47b7-b562-53b9c53fb542",
   "metadata": {},
   "source": [
    "# Question 10"
   ]
  },
  {
   "cell_type": "code",
   "execution_count": 44,
   "id": "0ead9e1a-5858-42a7-85bf-c7e0df7750fe",
   "metadata": {},
   "outputs": [
    {
     "name": "stdin",
     "output_type": "stream",
     "text": [
      "Enter a number to find its first occurrence index in the tuple:  20\n"
     ]
    },
    {
     "name": "stdout",
     "output_type": "stream",
     "text": [
      "The first occurrence of 20 is at index 1.\n"
     ]
    },
    {
     "name": "stdin",
     "output_type": "stream",
     "text": [
      "Enter another number to count how many times it appears in the tuple:  2\n"
     ]
    },
    {
     "name": "stdout",
     "output_type": "stream",
     "text": [
      "The number 2 does not appear in the tuple.\n"
     ]
    }
   ],
   "source": [
    "# Create a tuple with multiple integer values, including duplicates\n",
    "numbers_tuple = (10, 20, 30, 20, 40, 50, 20, 60)\n",
    "\n",
    "# Function to find the index and count occurrences of numbers in the tuple\n",
    "def tuple_operations():\n",
    "    # Prompt the user to input a number and find its index\n",
    "    number1 = int(input(\"Enter a number to find its first occurrence index in the tuple: \"))\n",
    "    \n",
    "    if number1 in numbers_tuple:\n",
    "        index = numbers_tuple.index(number1)\n",
    "        print(f\"The first occurrence of {number1} is at index {index}.\")\n",
    "    else:\n",
    "        print(f\"The number {number1} is not in the tuple.\")\n",
    "    \n",
    "    # Ask the user for another number and count its occurrences\n",
    "    number2 = int(input(\"Enter another number to count how many times it appears in the tuple: \"))\n",
    "    \n",
    "    count = numbers_tuple.count(number2)\n",
    "    if count > 0:\n",
    "        print(f\"The number {number2} appears {count} time(s) in the tuple.\")\n",
    "    else:\n",
    "        print(f\"The number {number2} does not appear in the tuple.\")\n",
    "\n",
    "# Call the function to perform the operations\n",
    "tuple_operations()\n"
   ]
  },
  {
   "cell_type": "markdown",
   "id": "8e3af4b3-a272-401b-863f-cfe01d888b09",
   "metadata": {},
   "source": [
    "# Question 11"
   ]
  },
  {
   "cell_type": "code",
   "execution_count": 47,
   "id": "8bd10080-e237-4b75-9406-b3588f665cc6",
   "metadata": {},
   "outputs": [
    {
     "name": "stdin",
     "output_type": "stream",
     "text": [
      "Enter the current temperature in Celsius:  10\n"
     ]
    },
    {
     "name": "stdout",
     "output_type": "stream",
     "text": [
      "The temperature is normal.\n"
     ]
    }
   ],
   "source": [
    "# Function to check temperature status\n",
    "def check_temperature_status():\n",
    "    # Ask the user to input the current temperature in Celsius\n",
    "    temperature = float(input(\"Enter the current temperature in Celsius: \"))\n",
    "\n",
    "    # Predefined temperature values for comparison\n",
    "    freezing_point = -5\n",
    "    normal_temperature = 25\n",
    "    hot_temperature = 40\n",
    "\n",
    "    # Check the temperature status based on predefined values\n",
    "    if temperature <= freezing_point:\n",
    "        print(\"It's freezing!\")\n",
    "    elif temperature <= normal_temperature:\n",
    "        print(\"The temperature is normal.\")\n",
    "    elif temperature <= hot_temperature:\n",
    "        print(\"It's hot!\")\n",
    "    else:\n",
    "        print(\"The temperature is extremely hot!\")\n",
    "\n",
    "# Call the function to check the temperature status\n",
    "check_temperature_status()\n"
   ]
  },
  {
   "cell_type": "markdown",
   "id": "0e9b6c23-57f1-422d-9ecf-3995ea15ebf2",
   "metadata": {},
   "source": [
    "# The End"
   ]
  },
  {
   "cell_type": "code",
   "execution_count": null,
   "id": "ac5d1418-f443-45e8-87d3-18a83e7ab6e0",
   "metadata": {},
   "outputs": [],
   "source": []
  }
 ],
 "metadata": {
  "kernelspec": {
   "display_name": "Python 3 (ipykernel)",
   "language": "python",
   "name": "python3"
  },
  "language_info": {
   "codemirror_mode": {
    "name": "ipython",
    "version": 3
   },
   "file_extension": ".py",
   "mimetype": "text/x-python",
   "name": "python",
   "nbconvert_exporter": "python",
   "pygments_lexer": "ipython3",
   "version": "3.12.7"
  }
 },
 "nbformat": 4,
 "nbformat_minor": 5
}
