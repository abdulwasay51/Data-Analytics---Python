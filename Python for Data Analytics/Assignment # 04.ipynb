{
 "cells": [
  {
   "cell_type": "markdown",
   "id": "f6706980-61bb-4794-afac-272eb06db100",
   "metadata": {},
   "source": [
    "# Assignment # 04"
   ]
  },
  {
   "cell_type": "markdown",
   "id": "51e50d47-f4f1-4961-97a6-d84e99681074",
   "metadata": {},
   "source": [
    "# Question # 01"
   ]
  },
  {
   "cell_type": "code",
   "execution_count": 3,
   "id": "f2439227-ee71-4366-bc89-2b6195be49c3",
   "metadata": {},
   "outputs": [
    {
     "name": "stdout",
     "output_type": "stream",
     "text": [
      "Elements of my_tuple:\n",
      "(1, 2, 3)\n",
      "[4, 5, 6]\n",
      "('apple', 'banana', 'cherry')\n",
      "[7, 8, 9]\n",
      "\n",
      "New tuple by concatenating the first and last elements:\n",
      "(1, 2, 3, 7, 8, 9)\n"
     ]
    }
   ],
   "source": [
    "# Given tuple\n",
    "my_tuple = ((1, 2, 3), [4, 5, 6], ('apple', 'banana', 'cherry'), [7, 8, 9])\n",
    "\n",
    "# Part 1: Print all elements on a new line\n",
    "print(\"Elements of my_tuple:\")\n",
    "for element in my_tuple:\n",
    "    print(element)\n",
    "\n",
    "# Part 2: Concatenate the first and last elements\n",
    "# Since the first and last elements are both sequences, we can concatenate them\n",
    "new_tuple = my_tuple[0] + tuple(my_tuple[-1])  # Convert the last element (list) to a tuple\n",
    "print(\"\\nNew tuple by concatenating the first and last elements:\")\n",
    "print(new_tuple)\n"
   ]
  },
  {
   "cell_type": "markdown",
   "id": "28dd4450-935d-4e16-be8c-1b4a8ed1a5da",
   "metadata": {},
   "source": [
    "# Question # 02"
   ]
  },
  {
   "cell_type": "code",
   "execution_count": 6,
   "id": "a84a6463-9956-40cc-883b-a6ae420e65d3",
   "metadata": {},
   "outputs": [
    {
     "name": "stdout",
     "output_type": "stream",
     "text": [
      "Book titles in the inventory:\n",
      "['The Great Gatsby', 'Rich dad poor dad', 'Harry Potter', 'To Kill a Mockingbird']\n",
      "\n",
      "Updated inventory:\n",
      "{'The Great Gatsby': {'price': 10.99, 'quantity': 5}, 'Rich dad poor dad': {'price': 8.99, 'quantity': 8}, 'Harry Potter': {'price': 12.5, 'quantity': 2}, 'To Kill a Mockingbird': {'price': 9.99, 'quantity': 3}}\n"
     ]
    }
   ],
   "source": [
    "# Given inventory dictionary\n",
    "inventory = {\n",
    "    \"The Great Gatsby\": {\"price\": 10.99, \"quantity\": 5},\n",
    "    \"Rich dad poor dad\": {\"price\": 8.99, \"quantity\": 8},\n",
    "    \"Harry Potter\": {\"price\": 12.50, \"quantity\": 2},\n",
    "}\n",
    "\n",
    "# Part 1: Add a new book to the inventory and get all book titles\n",
    "# Adding a new book\n",
    "new_book = \"To Kill a Mockingbird\"\n",
    "inventory[new_book] = {\"price\": 9.99, \"quantity\": 3}  # Adding with price and quantity\n",
    "\n",
    "# Getting all book titles\n",
    "book_titles = inventory.keys()  # This returns a list of all the book titles\n",
    "print(\"Book titles in the inventory:\")\n",
    "print(list(book_titles))  # Convert to a list to print nicely\n",
    "\n",
    "# Part 2: Remove a book if it's out of stock\n",
    "# Check for books with quantity = 0 and remove them\n",
    "books_to_remove = [book for book, details in inventory.items() if details[\"quantity\"] == 0]\n",
    "for book in books_to_remove:\n",
    "    del inventory[book]  # Remove out-of-stock books\n",
    "\n",
    "print(\"\\nUpdated inventory:\")\n",
    "print(inventory)\n"
   ]
  },
  {
   "cell_type": "markdown",
   "id": "fb503f72-79f9-42e8-bef2-3335bcd8063a",
   "metadata": {},
   "source": [
    "# Question # 03"
   ]
  },
  {
   "cell_type": "code",
   "execution_count": 9,
   "id": "d1e5ff92-fc82-44b9-b865-0eb9bbc05b86",
   "metadata": {},
   "outputs": [
    {
     "name": "stdout",
     "output_type": "stream",
     "text": [
      "Updated stock for 'Shirt': 250\n",
      "\n",
      "Updated products dictionary:\n",
      "ID: 101, Details: {'name': 'Laptop', 'category': 'Electronics', 'price': 1200, 'stock': 50}\n",
      "ID: 102, Details: {'name': 'Shirt', 'category': 'Apparel', 'price': 25, 'stock': 250}\n",
      "ID: 103, Details: {'name': 'Coffee Maker', 'category': 'Home Appliances', 'price': 80, 'stock': 30}\n",
      "ID: 104, Details: {'name': 'Smartphone', 'category': 'Electronics', 'price': 699, 'stock': 100}\n"
     ]
    }
   ],
   "source": [
    "# Given products dictionary\n",
    "products = {\n",
    "    101: {\"name\": \"Laptop\", \"category\": \"Electronics\", \"price\": 1200, \"stock\": 50},\n",
    "    102: {\"name\": \"Shirt\", \"category\": \"Apparel\", \"price\": 25, \"stock\": 200},\n",
    "    103: {\"name\": \"Coffee Maker\", \"category\": \"Home Appliances\", \"price\": 80, \"stock\": 30},\n",
    "}\n",
    "\n",
    "# Part 1: Increase the stock of the \"Shirt\" product\n",
    "shirt_id = 102  # Product ID for \"Shirt\"\n",
    "products[shirt_id][\"stock\"] += 50  # Increase stock by 50\n",
    "\n",
    "print(f\"Updated stock for 'Shirt': {products[shirt_id]['stock']}\")\n",
    "\n",
    "# Part 2: Add a new product (\"Smartphone\")\n",
    "new_product_id = 104  # New unique product ID\n",
    "products[new_product_id] = {\n",
    "    \"name\": \"Smartphone\",\n",
    "    \"category\": \"Electronics\",\n",
    "    \"price\": 699,\n",
    "    \"stock\": 100,\n",
    "}\n",
    "\n",
    "print(\"\\nUpdated products dictionary:\")\n",
    "for product_id, details in products.items():\n",
    "    print(f\"ID: {product_id}, Details: {details}\")\n"
   ]
  },
  {
   "cell_type": "markdown",
   "id": "cf7ce272-5071-4c72-9a0b-145a361d1fcb",
   "metadata": {},
   "source": [
    "# Question # 04"
   ]
  },
  {
   "cell_type": "code",
   "execution_count": 12,
   "id": "a05abffa-4df9-4bcf-996c-cfb7fa57a091",
   "metadata": {},
   "outputs": [
    {
     "name": "stdout",
     "output_type": "stream",
     "text": [
      "Original shopping list:\n",
      "['apple', 'banana', 'apple', 'orange', 'banana', 'grape']\n",
      "\n",
      "Unique shopping list (duplicates removed):\n",
      "['grape', 'apple', 'banana', 'orange']\n"
     ]
    }
   ],
   "source": [
    "# Given shopping list with duplicates\n",
    "shopping_list = [\"apple\", \"banana\", \"apple\", \"orange\", \"banana\", \"grape\"]\n",
    "\n",
    "# Remove duplicates by converting the list to a set\n",
    "unique_items = set(shopping_list)\n",
    "\n",
    "# Convert the set back to a list (if you need a list output)\n",
    "unique_shopping_list = list(unique_items)\n",
    "\n",
    "# Output the results\n",
    "print(\"Original shopping list:\")\n",
    "print(shopping_list)\n",
    "\n",
    "print(\"\\nUnique shopping list (duplicates removed):\")\n",
    "print(unique_shopping_list)\n"
   ]
  },
  {
   "cell_type": "markdown",
   "id": "ce4daf4a-e05e-4a78-b04d-c8afb0e0cba9",
   "metadata": {},
   "source": [
    "# Question # 05"
   ]
  },
  {
   "cell_type": "code",
   "execution_count": 17,
   "id": "713a481d-2007-4080-a7a8-89a95a3ef118",
   "metadata": {},
   "outputs": [
    {
     "name": "stdout",
     "output_type": "stream",
     "text": [
      "Students in Course A but not in Course B:\n",
      "{'Bob', 'John'}\n",
      "\n",
      "Students only in one of the two courses:\n",
      "{'Eve', 'Charlie', 'Bob', 'John'}\n"
     ]
    }
   ],
   "source": [
    "# Given sets of students\n",
    "course_a = {\"John\", \"Alice\", \"Bob\", \"David\"}\n",
    "course_b = {\"Alice\", \"Eve\", \"Charlie\", \"David\"}\n",
    "\n",
    "# Part 1: Students in Course A but not in Course B (difference)\n",
    "only_in_course_a = course_a - course_b\n",
    "print(\"Students in Course A but not in Course B:\")\n",
    "print(only_in_course_a)\n",
    "\n",
    "# Part 2: Students only in one of the two courses (symmetric difference)\n",
    "only_in_one_course = course_a ^ course_b  # Symmetric difference operator\n",
    "print(\"\\nStudents only in one of the two courses:\")\n",
    "print(only_in_one_course)\n"
   ]
  },
  {
   "cell_type": "markdown",
   "id": "4e4216f6-7f9b-4f3a-a565-7f6b4db32cc4",
   "metadata": {},
   "source": [
    "# Question # 06"
   ]
  },
  {
   "cell_type": "code",
   "execution_count": 20,
   "id": "3529bed4-2da1-4dce-8d0d-c0628de24098",
   "metadata": {},
   "outputs": [
    {
     "name": "stdout",
     "output_type": "stream",
     "text": [
      "The sum of all even numbers between 1 and 50 is: 650\n"
     ]
    }
   ],
   "source": [
    "# Initialize a variable to hold the sum of even numbers\n",
    "sum_of_evens = 0\n",
    "\n",
    "# Use a for loop to iterate through all numbers from 1 to 50\n",
    "for number in range(1, 51):  # Range from 1 to 50 (inclusive)\n",
    "    if number % 2 == 0:  # Check if the number is even\n",
    "        sum_of_evens += number  # Add the even number to the sum\n",
    "\n",
    "# Print the total sum of all even numbers\n",
    "print(\"The sum of all even numbers between 1 and 50 is:\", sum_of_evens)\n"
   ]
  },
  {
   "cell_type": "markdown",
   "id": "fb8779af-0191-4289-9c97-d0ec91012b03",
   "metadata": {},
   "source": [
    "# Question # 07"
   ]
  },
  {
   "cell_type": "code",
   "execution_count": 23,
   "id": "2a22408e-f602-48bc-ad37-45d4c000f702",
   "metadata": {},
   "outputs": [
    {
     "name": "stdin",
     "output_type": "stream",
     "text": [
      "Enter a number between 1 and 10:  8\n"
     ]
    },
    {
     "name": "stdout",
     "output_type": "stream",
     "text": [
      "\n",
      "Multiplication table for 8:\n",
      "\n",
      "8 x 1 = 8\n",
      "8 x 2 = 16\n",
      "8 x 3 = 24\n",
      "8 x 4 = 32\n",
      "8 x 5 = 40\n",
      "8 x 6 = 48\n",
      "8 x 7 = 56\n",
      "8 x 8 = 64\n",
      "8 x 9 = 72\n",
      "8 x 10 = 80\n"
     ]
    }
   ],
   "source": [
    "# Ask the user for a number between 1 and 10\n",
    "number = int(input(\"Enter a number between 1 and 10: \"))\n",
    "\n",
    "# Validate that the number is in the correct range\n",
    "if 1 <= number <= 10:\n",
    "    print(f\"\\nMultiplication table for {number}:\\n\")\n",
    "    # Use a for loop to iterate from 1 to 10\n",
    "    for i in range(1, 11):\n",
    "        # Calculate and print the product in readable format\n",
    "        print(f\"{number} x {i} = {number * i}\")\n",
    "else:\n",
    "    print(\"Invalid input! Please enter a number between 1 and 10.\")\n"
   ]
  },
  {
   "cell_type": "markdown",
   "id": "5b197ff4-960b-4154-ade7-f4772cbaa4cc",
   "metadata": {},
   "source": [
    "# Question # 08"
   ]
  },
  {
   "cell_type": "code",
   "execution_count": 27,
   "id": "c3065937-0c40-489b-b383-f1645a423332",
   "metadata": {},
   "outputs": [
    {
     "name": "stdin",
     "output_type": "stream",
     "text": [
      "Enter a number:  5\n"
     ]
    },
    {
     "name": "stdout",
     "output_type": "stream",
     "text": [
      "5^1 = 5\n",
      "5^2 = 25\n",
      "5^3 = 125\n",
      "5^4 = 625\n",
      "5^5 = 3125\n",
      "5^6 = 15625\n",
      "5^7 = 78125\n",
      "5^8 = 390625\n",
      "5^9 = 1953125\n",
      "5^10 = 9765625\n"
     ]
    }
   ],
   "source": [
    "# Ask the user for a number\n",
    "number = int(input(\"Enter a number: \"))\n",
    "\n",
    "# Initialize the exponent (starting from 1)\n",
    "exponent = 1\n",
    "\n",
    "# Use a while loop to print powers of the number from 1 to 10\n",
    "while exponent <= 10:\n",
    "    result = number ** exponent  # Calculate the power\n",
    "    print(f\"{number}^{exponent} = {result}\")  # Print the result\n",
    "    exponent += 1  # Increment the exponent\n"
   ]
  },
  {
   "cell_type": "markdown",
   "id": "3c168292-8707-4056-b5ec-df103672ed99",
   "metadata": {},
   "source": [
    "# Question # 09"
   ]
  },
  {
   "cell_type": "code",
   "execution_count": 30,
   "id": "00d8e21e-06cc-4d35-beff-7a92c28f26f9",
   "metadata": {},
   "outputs": [
    {
     "name": "stdin",
     "output_type": "stream",
     "text": [
      "Enter a number to start the countdown:  7\n"
     ]
    },
    {
     "name": "stdout",
     "output_type": "stream",
     "text": [
      "7\n",
      "6\n",
      "5\n",
      "4\n",
      "3\n",
      "2\n",
      "1\n",
      "0\n",
      "Countdown finished!\n"
     ]
    }
   ],
   "source": [
    "# Ask the user for an integer input to start the countdown\n",
    "start_number = int(input(\"Enter a number to start the countdown: \"))\n",
    "\n",
    "# Use a while loop to count down from the given number to 0\n",
    "while start_number >= 0:\n",
    "    print(start_number)  # Print the current number\n",
    "    start_number -= 1  # Decrement the number by 1\n",
    "\n",
    "# After the countdown reaches 0, print the message\n",
    "print(\"Countdown finished!\")\n"
   ]
  },
  {
   "cell_type": "markdown",
   "id": "3a1d65be-d920-44f9-86ae-95c65ff0bf08",
   "metadata": {},
   "source": [
    "# Question # 10"
   ]
  },
  {
   "cell_type": "code",
   "execution_count": 37,
   "id": "6ca3e20f-be96-4e2e-b25e-b40d3dda311e",
   "metadata": {},
   "outputs": [
    {
     "name": "stdin",
     "output_type": "stream",
     "text": [
      "Enter the number of rows:  5\n"
     ]
    },
    {
     "name": "stdout",
     "output_type": "stream",
     "text": [
      "*\n",
      "* *\n",
      "* * *\n",
      "* * * *\n",
      "* * * * *\n"
     ]
    }
   ],
   "source": [
    "# Ask the user for an integer input to determine the number of rows\n",
    "n = int(input(\"Enter the number of rows: \"))\n",
    "\n",
    "# Use a for loop to print the pattern\n",
    "for i in range(1, n + 1):\n",
    "    # Print i stars in each row, with a space between each star\n",
    "    print(\" \".join([\"*\"] * i))\n"
   ]
  },
  {
   "cell_type": "markdown",
   "id": "ea0149f6-0057-4039-b260-697044580294",
   "metadata": {},
   "source": [
    "# The End"
   ]
  },
  {
   "cell_type": "code",
   "execution_count": null,
   "id": "bc0638ea-305d-4e5a-b127-f0698b6f200e",
   "metadata": {},
   "outputs": [],
   "source": []
  }
 ],
 "metadata": {
  "kernelspec": {
   "display_name": "Python 3 (ipykernel)",
   "language": "python",
   "name": "python3"
  },
  "language_info": {
   "codemirror_mode": {
    "name": "ipython",
    "version": 3
   },
   "file_extension": ".py",
   "mimetype": "text/x-python",
   "name": "python",
   "nbconvert_exporter": "python",
   "pygments_lexer": "ipython3",
   "version": "3.12.7"
  }
 },
 "nbformat": 4,
 "nbformat_minor": 5
}
